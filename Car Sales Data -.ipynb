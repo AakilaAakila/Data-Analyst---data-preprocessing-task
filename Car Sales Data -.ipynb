{
 "cells": [
  {
   "cell_type": "markdown",
   "id": "946bb907",
   "metadata": {},
   "source": [
    "Elevate Labs Data analyst Internship\n"
   ]
  },
  {
   "cell_type": "code",
   "execution_count": null,
   "id": "46933d4e",
   "metadata": {},
   "outputs": [],
   "source": []
  }
 ],
 "metadata": {
  "language_info": {
   "name": "python"
  }
 },
 "nbformat": 4,
 "nbformat_minor": 5
}
